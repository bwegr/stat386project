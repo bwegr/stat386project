{
 "cells": [
  {
   "cell_type": "code",
   "execution_count": null,
   "metadata": {},
   "outputs": [],
   "source": [
    "import pandas as pd\n",
    "import json\n",
    "\n",
    "file_paths = [\n",
    "    '/data/2023-10-02.json',\n",
    "    '/data/2023-10-03.json',\n",
    "    '/data/2023-10-04.json',\n",
    "    '/data/2023-10-05.json',\n",
    "    '/data/2023-10-06.json'\n",
    "]\n",
    "\n",
    "def read_json(file_path):\n",
    "    with open(file_path, 'r') as file:\n",
    "        data = json.load(file)\n",
    "    return data\n",
    "\n",
    "all_data = []\n",
    "for path in file_paths:\n",
    "    data = read_json(path)\n",
    "    all_data.extend(data)\n",
    "\n",
    "df = pd.DataFrame(all_data)\n",
    "df.head()\n"
   ]
  },
  {
   "cell_type": "code",
   "execution_count": null,
   "metadata": {},
   "outputs": [],
   "source": [
    "csv_file_path = 'data/slack_channel_data.csv'\n",
    "df.to_csv(csv_file_path, index=False)"
   ]
  }
 ],
 "metadata": {
  "language_info": {
   "name": "python"
  }
 },
 "nbformat": 4,
 "nbformat_minor": 2
}
